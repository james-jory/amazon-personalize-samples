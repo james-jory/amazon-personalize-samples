{
 "cells": [
  {
   "cell_type": "markdown",
   "id": "fb38004e",
   "metadata": {},
   "source": [
    "# Personalized emails with Amazon Personalize and Generative AI - Part 2<a class=\"anchor\" id=\"top\"></a>\n",
    "\n",
    "\n",
    "## Outline\n",
    "\n",
    "1. [Introduction](#intro)\n",
    "1. [Get Personalized recommendations from Amazon Personalize](#getRecs)\n",
    "1. [Get the user's favorite movie genre](#getGenre)\n",
    "1. [Add User demographic information](#getDemographic)\n",
    "1. [Using Amazon Bedrock](#Bedrock)\n",
    "1. [Generate personalized Marketing Communication](#Emails)\n",
    "1. [Wrap up](#wrapup)\n",
    "\n",
    "\n",
    "\n",
    "## Introduction <a class=\"anchor\" id=\"outline\"></a>\n",
    "\n",
    "In the previous notebook: [`03_Train_Personalize_Model_02_Training.ipynb`](03_Train_Personalize_Model_02_Training.ipynb) you trained and evaluated an Amazon Personalize top-pics-for-you recommender to generate personalize recommendations for each user.\n",
    "\n",
    "In this Notebook we will get recommendations using the Amazon Personalzie recommender we trainined in the previous notebook including the item metadata and generate Personalized marketing communication for different users experimenting with different prompts and user demographics.\n"
   ]
  },
  {
   "cell_type": "markdown",
   "id": "5a58e0ab",
   "metadata": {},
   "source": [
    "Connect to Amazon Personalize via [Boto3](https://boto3.amazonaws.com/v1/documentation/api/latest/index.html), the AWS SDK for Python and check the resources have been created."
   ]
  },
  {
   "cell_type": "markdown",
   "id": "914ce878",
   "metadata": {},
   "source": [
    "Similar to the previous notebook, start by importing the relevant packages, and set up a connection to Amazon Personalize using the SDK."
   ]
  },
  {
   "cell_type": "code",
   "execution_count": null,
   "id": "4db1e890",
   "metadata": {},
   "outputs": [],
   "source": [
    "import time\n",
    "from time import sleep\n",
    "import json\n",
    "from datetime import datetime\n",
    "import uuid\n",
    "import random\n",
    "import boto3\n",
    "import botocore\n",
    "from botocore.exceptions import ClientError\n",
    "import pandas as pd\n",
    "import re"
   ]
  },
  {
   "cell_type": "code",
   "execution_count": null,
   "id": "3ca1b4e0",
   "metadata": {},
   "outputs": [],
   "source": [
    "# retrive the saved variables from the previous notebook\n",
    "%store -r"
   ]
  },
  {
   "cell_type": "markdown",
   "id": "58a0d044",
   "metadata": {},
   "source": [
    "## Get Personalized recommendations from Amazon Personalize<a class=\"anchor\" id=\"getRecs\"></a>\n",
    "[Back to top](#top)\n",
    "\n",
    "Now that we have trained the [Top picks for you](https://docs.aws.amazon.com/personalize/latest/dg/VIDEO_ON_DEMAND-use-cases.html#top-picks-use-case) recommender we can get recommendations for our users. \n",
    "\n",
    "For more details and ways to use Amazon Personalize to get recommendations, please see the [Amazon Personalize Getting Recommendations](https://docs.aws.amazon.com/personalize/latest/dg/getting-recommendations.html)."
   ]
  },
  {
   "cell_type": "code",
   "execution_count": null,
   "id": "407723e1",
   "metadata": {},
   "outputs": [],
   "source": [
    "# Configure the SDK to Personalize:\n",
    "personalize = boto3.client('personalize')\n",
    "personalize_runtime = boto3.client('personalize-runtime')"
   ]
  },
  {
   "cell_type": "markdown",
   "id": "50c57094",
   "metadata": {},
   "source": [
    "Select a random user to see their recommendations."
   ]
  },
  {
   "cell_type": "code",
   "execution_count": null,
   "id": "6118b474",
   "metadata": {},
   "outputs": [],
   "source": [
    "user_id = random.sample(list(user_ids), 1)[0]\n",
    "user_id"
   ]
  },
  {
   "cell_type": "markdown",
   "id": "2f64ddf0",
   "metadata": {},
   "source": [
    "Get 15 recommendations from the 'Top pics for you' recommender we trained."
   ]
  },
  {
   "cell_type": "code",
   "execution_count": null,
   "id": "9daf765b",
   "metadata": {},
   "outputs": [],
   "source": [
    "get_recommendations_response = personalize_runtime.get_recommendations(\n",
    "    recommenderArn = workshop_recommender_top_picks_arn,\n",
    "    userId = str(user_id),\n",
    "    numResults = 15,\n",
    "    metadataColumns = {\n",
    "        \"ITEMS\": ['TITLE', 'PLOT', 'GENRES']\n",
    "    }\n",
    ")\n",
    "\n",
    "print (get_recommendations_response['itemList'])"
   ]
  },
  {
   "cell_type": "markdown",
   "id": "a9a9a55e",
   "metadata": {},
   "source": [
    "It works, we can get recommendations!\n",
    "\n",
    "Let's create a method to get recommended movies and their metadata for each user."
   ]
  },
  {
   "cell_type": "code",
   "execution_count": null,
   "id": "1a974d37",
   "metadata": {},
   "outputs": [],
   "source": [
    "def getRecommendedMoviesForUserId(\n",
    "    user_id, \n",
    "    workshop_recommender_top_picks_arn, \n",
    "    item_data, \n",
    "    number_of_movies_to_recommend = 5):\n",
    "    # For a user_id, gets the top n (number_of_movies_to_recommend) movies using Amazon Personalize \n",
    "    # and gets the additional metadata for each movie (item_id) from the item_data.\n",
    "    # returns a list of movie dictionaries (movie_list) with the relevant data.\n",
    "\n",
    "    # get recommended movies\n",
    "    get_recommendations_response = personalize_runtime.get_recommendations(\n",
    "        recommenderArn = workshop_recommender_top_picks_arn,\n",
    "        userId = str(user_id),\n",
    "        numResults = number_of_movies_to_recommend,\n",
    "        metadataColumns = {\n",
    "            \"ITEMS\": ['TITLE', 'PLOT', 'GENRES']\n",
    "        }\n",
    "    )\n",
    "\n",
    "    # create a list of movies with title, geners, and plot.   \n",
    "    movie_list = []\n",
    "    \n",
    "    for recommended_movie in get_recommendations_response['itemList']:      \n",
    "        movie_list.append(\n",
    "            {\n",
    "                'title' : recommended_movie['metadata']['title'],\n",
    "                'genres' : recommended_movie['metadata']['genres'].replace('|', ' and '),\n",
    "                'plot' : recommended_movie['metadata']['plot']\n",
    "            }\n",
    "        )\n",
    "    return movie_list\n",
    "    "
   ]
  },
  {
   "cell_type": "markdown",
   "id": "d2b5acde",
   "metadata": {},
   "source": [
    "We select a random user_id."
   ]
  },
  {
   "cell_type": "code",
   "execution_count": null,
   "id": "5da5cf54",
   "metadata": {},
   "outputs": [],
   "source": [
    "user_id = random.sample(list(user_ids), 1)[0]\n",
    "user_id"
   ]
  },
  {
   "cell_type": "markdown",
   "id": "ca5adc0e",
   "metadata": {},
   "source": [
    "We can select how many movies we want to recommend. In this case 3."
   ]
  },
  {
   "cell_type": "code",
   "execution_count": null,
   "id": "ff77168e",
   "metadata": {},
   "outputs": [],
   "source": [
    "number_of_movies_to_recommend = 3 "
   ]
  },
  {
   "cell_type": "markdown",
   "id": "be9e0912",
   "metadata": {},
   "source": [
    "Let's get the recommended movies for the user."
   ]
  },
  {
   "cell_type": "code",
   "execution_count": null,
   "id": "993b9986",
   "metadata": {},
   "outputs": [],
   "source": [
    "movie_list = getRecommendedMoviesForUserId(user_id, workshop_recommender_top_picks_arn, item_data, number_of_movies_to_recommend)\n",
    "\n",
    "# print each movie in the array\n",
    "for movie in movie_list:\n",
    "    print ('Title: '+movie['title'])\n",
    "    print ('Genres: '+movie['genres'])\n",
    "    print ('Plot: '+movie['plot'])\n",
    "    print ()"
   ]
  },
  {
   "cell_type": "markdown",
   "id": "7186e41f",
   "metadata": {},
   "source": [
    "## Get the user's favorite movie genre<a class=\"anchor\" id=\"getGenre\"></a>\n",
    "[Back to top](#top)\n",
    "\n",
    "In order to provide a better personalized marketing communication, in this section we calculate the user's favorite movie genre based on the genres of all the movies they have interacted with in the past."
   ]
  },
  {
   "cell_type": "code",
   "execution_count": null,
   "id": "b60b6eaf",
   "metadata": {},
   "outputs": [],
   "source": [
    "def getUserFavouriteGenres(user_id, interactions_df, movie_data):\n",
    "    # For a user_id, gets the users favourite genre by looking at the user's interactions \n",
    "    # with each movie in the past and counting the genres to find the most comon genre. \n",
    "\n",
    "    # Get all movies the user has watched     \n",
    "    movies_df = interactions_df[interactions_df['USER_ID'] == user_id]\n",
    "\n",
    "    genres = {}\n",
    "\n",
    "    for movie_id in movies_df['ITEM_ID']:\n",
    "\n",
    "        movie_genres = movie_data[movie_data['ITEM_ID']==movie_id]['GENRES']\n",
    "        \n",
    "        if not len(movie_genres.tolist())==0:\n",
    "            for movie_genre in movie_genres.tolist()[0].split('|'):\n",
    "                if movie_genre in genres:\n",
    "                    genres[movie_genre] +=1\n",
    "                else:\n",
    "                    genres[movie_genre] = 1\n",
    "\n",
    "    genres_df = pd.DataFrame(list(genres.items()), columns =['GENRE', 'COUNT'])\n",
    "    \n",
    "    # Sort by most common\n",
    "    genres_df.sort_values(by=['COUNT'], inplace=True, ascending = False)\n",
    "    \n",
    "    # Return the most common (favourite) genre       \n",
    "    return genres_df.iloc[[0]]['GENRE'].values[0]\n",
    "    "
   ]
  },
  {
   "cell_type": "code",
   "execution_count": null,
   "id": "3933f4fc",
   "metadata": {},
   "outputs": [],
   "source": [
    "user_favorite_genre = getUserFavouriteGenres(user_id, interactions_df, item_data)\n",
    "user_favorite_genre"
   ]
  },
  {
   "cell_type": "markdown",
   "id": "e76d8e7d",
   "metadata": {},
   "source": [
    "We get user preferred genres from for this user by counting the number of interactions they have with each genre in the past."
   ]
  },
  {
   "cell_type": "markdown",
   "id": "31e4ed08",
   "metadata": {},
   "source": [
    "## Using Amazon Bedrock<a class=\"anchor\" id=\"Bedrock\"></a>\n",
    "[Back to top](#top)\n",
    "\n",
    "[Amazon Bedrock](https://docs.aws.amazon.com/bedrock/latest/userguide/what-is-bedrock.html) is a fully managed service that makes base models from Amazon and third-party model providers accessible through an API.\n",
    "\n",
    "<div class=\"alert alert-block alert-warning\">\n",
    "<b>Note:</b> Amazon Bedrock users need to request access to models before they are available for use. If you want to add additional models for text, chat, and image generation, you need to request access to models in Amazon Bedrock. To request access to additional models, select the Model access link in the left side navigation panel in the Amazon Bedrock console. For more information see: https://docs.aws.amazon.com/bedrock/latest/userguide/model-access.html\n",
    "</div>\n"
   ]
  },
  {
   "cell_type": "markdown",
   "id": "189e356e",
   "metadata": {},
   "source": [
    "### Connect to Amazon Bedrock\n",
    "Connect to Amazon Bedrock via [Boto3](https://boto3.amazonaws.com/v1/documentation/api/latest/index.html), the AWS SDK for Python.\n",
    "\n",
    "in this example we will be using [Anthropic Claude](https://aws.amazon.com/bedrock/claude/) on Amazon Bedrock."
   ]
  },
  {
   "cell_type": "code",
   "execution_count": null,
   "id": "7cc101e9",
   "metadata": {},
   "outputs": [],
   "source": [
    "bedrock = boto3.client('bedrock-runtime') "
   ]
  },
  {
   "cell_type": "code",
   "execution_count": null,
   "id": "b35ca3ad",
   "metadata": {},
   "outputs": [],
   "source": [
    "# Model parameters\n",
    "# The LLM we will be using is Anthropic Clause Sonnet 3.7\n",
    "model_id = 'us.anthropic.claude-3-7-sonnet-20250219-v1:0'\n",
    "\n",
    "# The maximum number of tokens to use in the generated response\n",
    "max_tokens_to_sample = 1000"
   ]
  },
  {
   "cell_type": "markdown",
   "id": "9568b8b8",
   "metadata": {},
   "source": [
    "## Add User demographic information<a class=\"anchor\" id=\"getDemographic\"></a>\n",
    "[Back to top](#top)\n",
    "\n",
    "We'll generate emails by assuming two different demographics for the users.\n",
    "\n",
    "<div class=\"alert alert-block alert-warning\">\n",
    "<b>Note:</b> Please note that the used version ml-latest-small dataset from the Movielens Dataset (https://grouplens.org/datasets/movielens/) does not contain demographic data and therefore we are trying out multiple options. In a real world scenario, you may know the demographics of your audience.\n",
    "</div>"
   ]
  },
  {
   "cell_type": "code",
   "execution_count": null,
   "id": "858abf90",
   "metadata": {},
   "outputs": [],
   "source": [
    "# Sample user demographics\n",
    "user_demographic_1 = f'The user is a 50 year old adult called Otto.'\n",
    "user_demographic_3 = f'The user is a young adult called Jane.'\n"
   ]
  },
  {
   "cell_type": "markdown",
   "id": "9c454fa8",
   "metadata": {},
   "source": [
    "## Generate Personalized Marketing Emails<a class=\"anchor\" id=\"Emails\"></a>\n",
    "[Back to top](#top)\n"
   ]
  },
  {
   "cell_type": "markdown",
   "id": "af9f0f80",
   "metadata": {},
   "source": [
    "### Generating a marketing email using a simple prompt\n",
    "Let's generate a simple marketing email that just uses the recommended movies."
   ]
  },
  {
   "cell_type": "code",
   "execution_count": null,
   "id": "09653dde",
   "metadata": {},
   "outputs": [],
   "source": [
    "def generate_personalize_simple_prompt(movie_list, model_id, max_tokens_to_sample = 50):\n",
    "\n",
    "    prompt_template = f'''Write a marketing email advertising several movies available in a video-on-demand streaming platform next week, given the movie and user information below. The movies to recommend and their information is contained in the <movie> tag. Put the email between <email> tags.\n",
    "\n",
    "    <movie>\n",
    "    {movie_list}\n",
    "    </movie>\n",
    "\n",
    "    Assistant: Email body:\n",
    "    <email>\n",
    "    '''\n",
    "    \n",
    "    if 'claude' in model_id:\n",
    "        prompt_input = json.dumps({\"prompt\": prompt_template, \"max_tokens_to_sample\": max_tokens_to_sample })\n",
    "    \n",
    "    return prompt_input"
   ]
  },
  {
   "cell_type": "code",
   "execution_count": null,
   "id": "da1e806f",
   "metadata": {},
   "outputs": [],
   "source": [
    "print ('User\\'s recommended movies:')\n",
    "\n",
    "# print each movie in the array\n",
    "for movie in movie_list:\n",
    "    print ('Title: '+movie['title'])\n",
    "    print ('Genres: '+movie['genres'])\n",
    "    print ('Plot: '+movie['plot'])\n",
    "    print ()"
   ]
  },
  {
   "cell_type": "code",
   "execution_count": null,
   "id": "95f8eadd",
   "metadata": {},
   "outputs": [],
   "source": [
    "# Create prompt input\n",
    "prompt_input_json = generate_personalize_simple_prompt( movie_list, model_id, max_tokens_to_sample )\n",
    "prompt_input_json"
   ]
  },
  {
   "cell_type": "markdown",
   "id": "b0884064",
   "metadata": {},
   "source": [
    "Let's invoke the model."
   ]
  },
  {
   "cell_type": "code",
   "execution_count": null,
   "id": "eab720f0",
   "metadata": {},
   "outputs": [],
   "source": [
    "def getPersonalizedEmail(bedrock_client, model_id, max_tokens_to_sample, prompt ):\n",
    "    \n",
    "    personalized_email = \"ERROR\"\n",
    "    \n",
    "    body = json.dumps({\n",
    "      \"max_tokens\": max_tokens_to_sample,\n",
    "      \"messages\": [{\"role\": \"user\", \"content\": prompt}],\n",
    "      \"anthropic_version\": \"bedrock-2023-05-31\"\n",
    "    })\n",
    "    \n",
    "    response = bedrock.invoke_model(body=body, modelId=model_id)\n",
    "    \n",
    "    response_body = json.loads(response.get('body').read())\n",
    "        \n",
    "    # Clean Gen AI response\n",
    "    personalized_email = re.sub(r'<[^>]*>', '', response_body['content'][0]['text'])\n",
    "\n",
    "    \n",
    "    return personalized_email"
   ]
  },
  {
   "cell_type": "markdown",
   "id": "e53aa00f",
   "metadata": {},
   "source": [
    "Next we need to invoke the model. \n",
    "\n",
    "<div class=\"alert alert-block alert-warning\">\n",
    "<b>Note:</b> Amazon Bedrock users need to request access to models before they are available for use. If you get an `Access Denied` error, make sure you have requested access to this model. To request access to additional models, select the Model access link in the left side navigation panel in the Amazon Bedrock console. For more information see: https://docs.aws.amazon.com/bedrock/latest/userguide/model-access.html\n",
    "</div>\n"
   ]
  },
  {
   "cell_type": "code",
   "execution_count": null,
   "id": "70591d57",
   "metadata": {},
   "outputs": [],
   "source": [
    "# Invoke model\n",
    "response = getPersonalizedEmail(bedrock,model_id, max_tokens_to_sample, prompt_input_json)\n",
    "print (response)"
   ]
  },
  {
   "cell_type": "markdown",
   "id": "c4ccb009",
   "metadata": {},
   "source": [
    "### Generating a marketing email using a more advanced prompt\n",
    "In this example we are adding the favorite genre for the user as well as exploring two different possible demographics in the input."
   ]
  },
  {
   "cell_type": "code",
   "execution_count": null,
   "id": "489804c7",
   "metadata": {},
   "outputs": [],
   "source": [
    "def generate_personalize_advanced_prompt(user_demographic, favorite_genre, movie_list, model_id, max_tokens_to_sample = 50):\n",
    "\n",
    "    prompt_template = f'''You are a skilled publicist. Write a high-converting marketing email advertising several movies available in a video-on-demand streaming platform next week, \n",
    "    given the movie and user information below. Your email will leverage the power of storytelling and persuasive language. \n",
    "    You want the email to impress the user, so make it appealing to them based on the information contained in the <user> tags, \n",
    "    and take into account the user's favorite genre in the <genre> tags. \n",
    "    The movies to recommend and their information is contained in the <movie> tag. \n",
    "    All movies in the <movie> tag must be recommended. Give a summary of the movies and why the human should watch them. \n",
    "    Put the email between <email> tags.\n",
    "\n",
    "    <user>\n",
    "    {user_demographic}\n",
    "    </user>\n",
    "\n",
    "    <genre>\n",
    "    {favorite_genre}\n",
    "    </genre>\n",
    "\n",
    "    <movie>\n",
    "    {movie_list}\n",
    "    </movie>\n",
    "\n",
    "    Assistant:Email body:\n",
    "    <email>\n",
    "    '''\n",
    "    \n",
    "    if 'claude' in model_id:\n",
    "        prompt_input = json.dumps({\"prompt\": prompt_template, \"max_tokens_to_sample\": max_tokens_to_sample })\n",
    "    \n",
    "    return prompt_input\n"
   ]
  },
  {
   "cell_type": "markdown",
   "id": "f202da61",
   "metadata": {},
   "source": [
    "### Generating a marketing email for a 50 year old user"
   ]
  },
  {
   "cell_type": "code",
   "execution_count": null,
   "id": "b750f675",
   "metadata": {},
   "outputs": [],
   "source": [
    "print ('User\\'s demographic')\n",
    "user_demographic = user_demographic_1\n",
    "user_demographic"
   ]
  },
  {
   "cell_type": "code",
   "execution_count": null,
   "id": "a2b3c088",
   "metadata": {},
   "outputs": [],
   "source": [
    "print ('User\\'s favorite Genre')\n",
    "user_favorite_genre"
   ]
  },
  {
   "cell_type": "code",
   "execution_count": null,
   "id": "c630d00d",
   "metadata": {},
   "outputs": [],
   "source": [
    "print ('User\\'s recommended movies:')\n",
    "\n",
    "# print each movie in the array\n",
    "for movie in movie_list:\n",
    "    print ('Title: '+movie['title'])\n",
    "    print ('Genres: '+movie['genres'])\n",
    "    print ('Plot: '+movie['plot'])\n",
    "    print ()"
   ]
  },
  {
   "cell_type": "code",
   "execution_count": null,
   "id": "f2c643a2",
   "metadata": {},
   "outputs": [],
   "source": [
    "# Create prompt input\n",
    "prompt_input_json = generate_personalize_advanced_prompt(user_demographic, user_favorite_genre, movie_list, model_id, max_tokens_to_sample )\n",
    "prompt_input_json"
   ]
  },
  {
   "cell_type": "code",
   "execution_count": null,
   "id": "ddc93bfd",
   "metadata": {},
   "outputs": [],
   "source": [
    "# Invoke model\n",
    "response = getPersonalizedEmail(bedrock,model_id, max_tokens_to_sample, prompt_input_json)\n",
    "print (response)"
   ]
  },
  {
   "cell_type": "markdown",
   "id": "7ec6f311",
   "metadata": {},
   "source": [
    "### Generating a marketing email for a young adult"
   ]
  },
  {
   "cell_type": "code",
   "execution_count": null,
   "id": "61963ccb",
   "metadata": {},
   "outputs": [],
   "source": [
    "print ('User\\'s age group')\n",
    "user_demographic = user_demographic_3\n",
    "user_demographic"
   ]
  },
  {
   "cell_type": "code",
   "execution_count": null,
   "id": "559cad7a",
   "metadata": {},
   "outputs": [],
   "source": [
    "print ('User\\'s favorite Genre')\n",
    "user_favorite_genre"
   ]
  },
  {
   "cell_type": "code",
   "execution_count": null,
   "id": "2120ce8a",
   "metadata": {},
   "outputs": [],
   "source": [
    "print ('User\\'s recommended movies:')\n",
    "\n",
    "# print each movie in the array\n",
    "for movie in movie_list:\n",
    "    print ('Title: '+movie['title'])\n",
    "    print ('Genres: '+movie['genres'])\n",
    "    print ('Plot: '+movie['plot'])\n",
    "    print ()"
   ]
  },
  {
   "cell_type": "code",
   "execution_count": null,
   "id": "8353fd88",
   "metadata": {},
   "outputs": [],
   "source": [
    "prompt_input_json = generate_personalize_advanced_prompt(user_demographic, user_favorite_genre, movie_list, model_id, max_tokens_to_sample )\n",
    "prompt_input_json"
   ]
  },
  {
   "cell_type": "code",
   "execution_count": null,
   "id": "cbc2ec17",
   "metadata": {},
   "outputs": [],
   "source": [
    "# Invoke model\n",
    "response = getPersonalizedEmail(bedrock,model_id, max_tokens_to_sample, prompt_input_json)\n",
    "print (response)"
   ]
  },
  {
   "cell_type": "markdown",
   "id": "5182225c",
   "metadata": {},
   "source": [
    "## Wrap up<a class=\"anchor\" id=\"wrapup\"></a>\n",
    "[Back to top](#top)\n"
   ]
  },
  {
   "cell_type": "code",
   "execution_count": null,
   "id": "95d3ecc0",
   "metadata": {},
   "outputs": [],
   "source": [
    "# Store variables\n",
    "%store workshop_dataset_group_arn\n",
    "%store region\n",
    "%store role_name"
   ]
  },
  {
   "cell_type": "markdown",
   "id": "d4b7edf0",
   "metadata": {},
   "source": [
    "With that you now have a fully working personalized marketing conten generator.\n",
    "\n",
    "You'll want to make sure that you clean up all of the resources deployed during this workshop. We have provided a separate notebook which shows you how to identify and delete the resources in [`05_Clean_Up.ipynb`](05_Clean_Up.ipynb)."
   ]
  }
 ],
 "metadata": {
  "kernelspec": {
   "display_name": "conda_python3",
   "language": "python",
   "name": "conda_python3"
  },
  "language_info": {
   "codemirror_mode": {
    "name": "ipython",
    "version": 3
   },
   "file_extension": ".py",
   "mimetype": "text/x-python",
   "name": "python",
   "nbconvert_exporter": "python",
   "pygments_lexer": "ipython3",
   "version": "3.10.16"
  }
 },
 "nbformat": 4,
 "nbformat_minor": 5
}
